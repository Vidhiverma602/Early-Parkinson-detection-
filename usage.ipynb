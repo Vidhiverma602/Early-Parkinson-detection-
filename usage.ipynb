{
 "cells": [
  {
   "cell_type": "code",
   "execution_count": 8,
   "metadata": {},
   "outputs": [],
   "source": [
    "import cv2\n",
    "import numpy as np\n",
    "import tkinter\n",
    "# from tkinter import filedialog\n",
    "# tkinter.Tk().withdraw()\n",
    "# imgpath = filedialog.askopenfilename(filetypes= [(\"All files\", \"*.*\")]) \n",
    "imgpath = input(\"Enter the path of the image: \")\n",
    "dataset = input(\"Enter the dataset name: \")\n",
    "\n",
    "img = cv2.imread(imgpath)\n",
    "img = cv2.resize(img, (200, 200))\n",
    "# print(img.size)\n",
    "# cv2.imshow('image', img)\n",
    "# cv2.waitKey(0)"
   ]
  },
  {
   "cell_type": "code",
   "execution_count": 9,
   "metadata": {},
   "outputs": [],
   "source": [
    "from skimage import feature\n",
    "def quantify_image(image):\n",
    "    features = feature.hog(image, orientations=9,\n",
    "                           pixels_per_cell=(10, 10), cells_per_block=(2, 2),\n",
    "                           transform_sqrt=True, block_norm=\"L1\")\n",
    "    return features"
   ]
  },
  {
   "cell_type": "code",
   "execution_count": 10,
   "metadata": {},
   "outputs": [],
   "source": [
    "import cv2\n",
    "def process_image(image):\n",
    "    image = cv2.resize(img, (200, 200))\n",
    "    image = cv2.cvtColor(image, cv2.COLOR_BGR2GRAY)\n",
    "    image = cv2.threshold(image, 0, 255, cv2.THRESH_BINARY_INV + cv2.THRESH_OTSU)[1]\n",
    "    return quantify_image(image)"
   ]
  },
  {
   "cell_type": "code",
   "execution_count": 11,
   "metadata": {},
   "outputs": [],
   "source": [
    "def test(model, image):\n",
    "    features = process_image(image)\n",
    "    pred = model.predict([features])\n",
    "    return pred"
   ]
  },
  {
   "cell_type": "code",
   "execution_count": 12,
   "metadata": {},
   "outputs": [],
   "source": [
    "import pickle\n",
    "if dataset == 'spiral':\n",
    "    pred = test(pickle.load(open('./spiral_models/spiral_RF_model.pkl', 'rb')), img)\n",
    "elif dataset == 'wave':\n",
    "    pred = test(pickle.load(open('./wave_models/wave_KNN_model.pkl', 'rb')), img)"
   ]
  },
  {
   "cell_type": "code",
   "execution_count": 13,
   "metadata": {},
   "outputs": [
    {
     "name": "stdout",
     "output_type": "stream",
     "text": [
      "[1]\n"
     ]
    }
   ],
   "source": [
    "print(pred)"
   ]
  },
  {
   "cell_type": "code",
   "execution_count": 14,
   "metadata": {},
   "outputs": [
    {
     "data": {
      "text/plain": [
       "-1"
      ]
     },
     "execution_count": 14,
     "metadata": {},
     "output_type": "execute_result"
    }
   ],
   "source": [
    "font = cv2.FONT_HERSHEY_COMPLEX_SMALL\n",
    "color = (0,0,0)     \n",
    "stroke = 1\n",
    "text = 'Parkinsons' if pred[0] else 'Healthy'\n",
    "cv2.putText(img, text, (10, 50), font, 1, color, stroke, cv2.LINE_AA)\n",
    "cv2.imshow('image', img)\n",
    "cv2.waitKey(0)"
   ]
  }
 ],
 "metadata": {
  "kernelspec": {
   "display_name": "Python 3",
   "language": "python",
   "name": "python3"
  },
  "language_info": {
   "codemirror_mode": {
    "name": "ipython",
    "version": 3
   },
   "file_extension": ".py",
   "mimetype": "text/x-python",
   "name": "python",
   "nbconvert_exporter": "python",
   "pygments_lexer": "ipython3",
   "version": "3.9.7"
  },
  "orig_nbformat": 4
 },
 "nbformat": 4,
 "nbformat_minor": 2
}
